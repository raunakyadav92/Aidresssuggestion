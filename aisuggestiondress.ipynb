{
  "nbformat": 4,
  "nbformat_minor": 0,
  "metadata": {
    "colab": {
      "provenance": [],
      "authorship_tag": "ABX9TyOhp337C0qt/Co5B9dBqmOB",
      "include_colab_link": true
    },
    "kernelspec": {
      "name": "python3",
      "display_name": "Python 3"
    },
    "language_info": {
      "name": "python"
    }
  },
  "cells": [
    {
      "cell_type": "markdown",
      "metadata": {
        "id": "view-in-github",
        "colab_type": "text"
      },
      "source": [
        "<a href=\"https://colab.research.google.com/github/raunakyadav92/Aidresssuggestion/blob/main/aisuggestiondress.ipynb\" target=\"_parent\"><img src=\"https://colab.research.google.com/assets/colab-badge.svg\" alt=\"Open In Colab\"/></a>"
      ]
    },
    {
      "cell_type": "code",
      "execution_count": null,
      "metadata": {
        "id": "beymiNRzmReZ"
      },
      "outputs": [],
      "source": [
        "import openai\n",
        "\n",
        "openai.api_key = 'YOUR_OPENAI_API_KEY'\n",
        "\n",
        "def get_outfit_suggestion(occasion, gender, weather):\n",
        "    prompt = f\"Suggest a fashionable {occasion} outfit for a {gender} for {weather} weather. Include top, bottom, footwear, and one accessory.\"\n",
        "    response = openai.Completion.create(\n",
        "        engine=\"text-davinci-003\",\n",
        "        prompt=prompt,\n",
        "        max_tokens=100\n",
        "    )\n",
        "    return response.choices[0].text.strip()\n",
        "\n",
        "# Example usage:\n",
        "print(get_outfit_suggestion(\"party\", \"female\", \"summer\"))\n"
      ]
    }
  ]
}